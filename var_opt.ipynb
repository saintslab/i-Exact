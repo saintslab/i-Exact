{
  "nbformat": 4,
  "nbformat_minor": 0,
  "metadata": {
    "colab": {
      "provenance": [],
      "machine_shape": "hm",
      "gpuType": "T4"
    },
    "kernelspec": {
      "name": "python3",
      "display_name": "Python 3"
    },
    "language_info": {
      "name": "python"
    },
    "gpuClass": "standard"
  },
  "cells": [
    {
      "cell_type": "markdown",
      "source": [
        "##Clipnorm"
      ],
      "metadata": {
        "id": "Ax9-PZTqG7ch"
      }
    },
    {
      "cell_type": "code",
      "source": [
        "def scale_from_d(d):\n",
        "    mean = 1.5\n",
        "    # Calculate the z-score\n",
        "    z_score = norm.ppf(1/d)\n",
        "\n",
        "    # Calculate the standard deviation\n",
        "    scale = - mean / z_score\n",
        "    return scale"
      ],
      "metadata": {
        "id": "rf-BjCrBG657"
      },
      "execution_count": 1,
      "outputs": []
    },
    {
      "cell_type": "markdown",
      "source": [
        "## Norm distribution"
      ],
      "metadata": {
        "id": "M3sJ3h3IXPaF"
      }
    },
    {
      "cell_type": "code",
      "source": [
        "import numpy as np\n",
        "from scipy import integrate\n",
        "from scipy.stats import norm\n",
        "from scipy.optimize import minimize\n",
        "from tqdm.notebook import tqdm\n",
        "\n",
        "# Define the normal distribution parameters\n",
        "mean = 1.5\n",
        "clipped = True\n",
        "use_d_key = True\n",
        "\n",
        "# Define the function sigma - sigma^2\n",
        "def func(sigma, dist, shift):\n",
        "    return dist * (sigma - shift) - (sigma - shift)**2\n",
        "    #return sigma - sigma**2\n",
        "\n",
        "def g_sigma(sigma, scale):\n",
        "    return norm.pdf(sigma, mean, scale)  # Shifted by 0\n",
        "\n",
        "# Define the integrand for each interval as the product of the function and the shifted pdf\n",
        "def integrand1(sigma, lo, scale):\n",
        "    return func(sigma, lo, 0) * g_sigma(sigma, scale)\n",
        "\n",
        "def integrand2(sigma, lo, hi, scale):\n",
        "    return func(sigma, (hi - lo), lo) * g_sigma(sigma, scale)\n",
        "\n",
        "def integrand3(sigma, hi, scale):\n",
        "    return func(sigma, (3 - hi), hi) * g_sigma(sigma, scale)\n",
        "\n",
        "def expected_value_func(x, scale):\n",
        "    lo = x[0]\n",
        "    hi = x[1]\n",
        "\n",
        "\n",
        "    total_weight = norm.cdf(3, mean, scale) - norm.cdf(0, mean, scale)\n",
        "    if clipped:\n",
        "        total_weight = 1\n",
        "\n",
        "    # Calculate the weighted expected value by integrating the integrand over each range of sigma and summing\n",
        "    expected_value = ((integrate.quad(integrand1, 0, lo, args=(lo, scale), limit=100)[0]) +\n",
        "                      (integrate.quad(integrand2, lo, hi, args=(lo, hi, scale), limit=100)[0]) +\n",
        "                      (integrate.quad(integrand3, hi, 3, args=(hi, scale), limit=100)[0])) / total_weight\n",
        "\n",
        "    return expected_value\n",
        "\n",
        "# Define the constraints with the fourth constraint\n",
        "constraints_eq = ({'type': 'ineq', 'fun': lambda x:  x[0] - 0},  # lo > 0\n",
        "                  {'type': 'ineq', 'fun': lambda x:  1.5 - x[0]})  # 1.5 > lo\n",
        "\n",
        "los = []\n",
        "# Loop over the desired scales\n",
        "if use_d_key:\n",
        "    scales = scale_from_d(np.arange(4, 2048))\n",
        "else:\n",
        "    scales = np.arange(0.01, 5.0, 0.001)\n",
        "\n",
        "# Get the cumulative probabilities at 0 and 3\n",
        "cdf_0 = norm.cdf(0, loc=mean, scale=scales[0])\n",
        "cdf_3 = norm.cdf(3, loc=mean, scale=scales[0])\n",
        "\n",
        "# Compute the adjusted percentiles\n",
        "p33_adjusted = norm.ppf(cdf_0 + 0.33*(cdf_3 - cdf_0), loc=mean, scale=scales[0])\n",
        "p67_adjusted = norm.ppf(cdf_0 + 0.67*(cdf_3 - cdf_0), loc=mean, scale=scales[0])\n",
        "x0 = np.array([p33_adjusted, p67_adjusted])\n",
        "\n",
        "for idx, scale in tqdm(enumerate(scales), total=len(scales)):\n",
        "    # Optimize lo and hi for the current scale, first with the fourth constraint\n",
        "    res = minimize(expected_value_func, x0, args=(scale), method='L-BFGS-B')\n",
        "    uniform_res = expected_value_func([1.0, 2.0], scale)\n",
        "\n",
        "    los.append(res.x[0])\n",
        "    # Print the optimal lo and hi and the corresponding expected value\n",
        "    print(f\"{idx+4}: For scale {scale:.2f}, optimal lo = {res.x[0]:.3f}, hi = {(3 - res.x[0]):.3f}, expected value = {res.fun:.5f}, , non-opt value = {uniform_res:.5f}\")\n",
        "\n",
        "    x0 = res.x\n",
        "    if res.x[0] < 1.01:\n",
        "        break"
      ],
      "metadata": {
        "id": "zMpUQX4MHeXu"
      },
      "execution_count": null,
      "outputs": []
    },
    {
      "cell_type": "code",
      "source": [
        "norm_scales = scales\n",
        "norm_los = los\n",
        "ds = np.arange(4, 2048)"
      ],
      "metadata": {
        "id": "z8qm_cofOhxF"
      },
      "execution_count": 3,
      "outputs": []
    },
    {
      "cell_type": "code",
      "source": [
        "len(ds)"
      ],
      "metadata": {
        "colab": {
          "base_uri": "https://localhost:8080/"
        },
        "id": "nekZCrhoOyAb",
        "outputId": "7fbb47e1-eb5f-435e-f071-b69a9220f652"
      },
      "execution_count": null,
      "outputs": [
        {
          "output_type": "execute_result",
          "data": {
            "text/plain": [
              "2044"
            ]
          },
          "metadata": {},
          "execution_count": 39
        }
      ]
    },
    {
      "cell_type": "code",
      "source": [
        "import pandas as pd\n",
        "\n",
        "# After your loop\n",
        "df = pd.DataFrame({\n",
        "    'dim': ds,\n",
        "    'norm_scales': norm_scales,\n",
        "    'norm_los': norm_los,\n",
        "    'clipped_scales': scales,\n",
        "    'clipped_los': los,\n",
        "})\n",
        "\n",
        "df.to_csv('lo_data.csv', index=False)"
      ],
      "metadata": {
        "id": "J63g-KFS0htZ"
      },
      "execution_count": 4,
      "outputs": []
    },
    {
      "cell_type": "code",
      "source": [
        "scales = np.arange(4, 2048, dtype=float)"
      ],
      "metadata": {
        "id": "b9IAcHSkLkUb"
      },
      "execution_count": 5,
      "outputs": []
    },
    {
      "cell_type": "code",
      "source": [
        "import numpy as np\n",
        "from scipy.optimize import curve_fit\n",
        "import matplotlib.pyplot as plt\n",
        "from sklearn.metrics import r2_score\n",
        "\n",
        "# define the model function\n",
        "def func(x, a, b, c, d, f):\n",
        "    return a + b * np.log(x * c) + d * x + f * x**0.5\n",
        "\n",
        "# Fit the model to the data\n",
        "initial_guess = [1, 1, 1, 1, 1]  # Initial guess for the coefficients\n",
        "popt, pcov = curve_fit(func, scales, los, p0=initial_guess)\n",
        "\n",
        "# Build the string representation of the fitted function\n",
        "func_str = f\"Fitted function: lo = {popt[0]:.8f} + {popt[1]:.8f} * np.log(x * {popt[2]:.8f}) + {popt[3]:.8f} * x + {popt[4]:.8f} * x**0.5\"\n",
        "print(func_str)\n",
        "print(popt)\n",
        "\n",
        "# Compute predicted values from fitted function\n",
        "y_pred = func(scales, *popt)\n",
        "\n",
        "# Compute r-squared value\n",
        "r2 = r2_score(los, y_pred)\n",
        "\n",
        "# Plot original data\n",
        "plt.scatter(scales, los, label='Original data', s=5)\n",
        "\n",
        "# Plot fitted function\n",
        "plt.plot(scales, y_pred, 'r', label='Fitted function')\n",
        "\n",
        "plt.xlabel('Scales')\n",
        "plt.ylabel('Optimal lo')\n",
        "plt.legend()\n",
        "plt.title(f'Fitted Function with R-squared = {r2:.7f}')\n",
        "plt.show()\n"
      ],
      "metadata": {
        "colab": {
          "base_uri": "https://localhost:8080/",
          "height": 559
        },
        "id": "sSWwqXxIMmJO",
        "outputId": "ac5b9417-4ee3-4d3d-d690-3aad13800585"
      },
      "execution_count": 6,
      "outputs": [
        {
          "output_type": "stream",
          "name": "stderr",
          "text": [
            "<ipython-input-6-13b5b4a6b304>:8: RuntimeWarning: invalid value encountered in log\n",
            "  return a + b * np.log(x * c) + d * x + f * x**0.5\n"
          ]
        },
        {
          "output_type": "stream",
          "name": "stdout",
          "text": [
            "Fitted function: lo = 0.95317444 + 0.03000649 * np.log(x * 1.98859949) + 0.00001230 * x + -0.00172387 * x**0.5\n",
            "[ 9.53174444e-01  3.00064903e-02  1.98859949e+00  1.23002189e-05\n",
            " -1.72387142e-03]\n"
          ]
        },
        {
          "output_type": "display_data",
          "data": {
            "text/plain": [
              "<Figure size 640x480 with 1 Axes>"
            ],
            "image/png": "[encoded data removed]"
          },
          "metadata": {}
        }
      ]
    }
  ]
}